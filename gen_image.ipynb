{
 "cells": [
  {
   "cell_type": "code",
   "execution_count": 6,
   "metadata": {},
   "outputs": [],
   "source": [
    "import cv2\n",
    "import random\n",
    "import numpy as np\n",
    "\n",
    "# функция показа изображения\n",
    "def viewImage(image, name_of_window):\n",
    "    cv2.namedWindow(name_of_window, cv2.WINDOW_NORMAL)\n",
    "    cv2.imshow(name_of_window, image)\n",
    "    cv2.waitKey(0)\n",
    "    cv2.destroyAllWindows()\n",
    "\n",
    "# функция генерации изображения углов\n",
    "def generate_image(n, img, path):\n",
    "    lineThickness = 1\n",
    "    \n",
    "    # генерация развернутого угла\n",
    "    num_type = '1_test'\n",
    "    for i in range(n):\n",
    "        new_img = img.copy()\n",
    "        x1, y1 = random.randint(0, 26), random.randint(0, 26)\n",
    "        x2, y2 = random.randint(x1 + 3, 30), y1\n",
    "        cv2.line(new_img, (x1, y1), (x2, y2), (10,10,10), lineThickness)\n",
    "        s = rf\"{path}\\{num_type}{str(i)}.png\"\n",
    "        cv2.imwrite(s, new_img) \n",
    "    \n",
    "    # генерация прямого угла\n",
    "    lineThickness = 1\n",
    "    num_type = '2_test'\n",
    "    for i in range(n):\n",
    "        new_img = img.copy()\n",
    "        x1, y1 = random.randint(3, 26), random.randint(3, 26)\n",
    "        x2, y2 = random.randint(x1 + 3, 30), y1\n",
    "        x3, y3 = x1, random.randint(0, y1 - 3)\n",
    "        cv2.line(new_img, (x1, y1), (x2, y2), (0, 0, 0), lineThickness)\n",
    "        cv2.line(new_img, (x1, y1), (x3, y3), (0, 0, 0), lineThickness)\n",
    "        cv2.imwrite(rf\"{path}\\{num_type}{str(i)}.png\", new_img)\n",
    "    \n",
    "    # генерация острого угла\n",
    "    num_type = '3_test'\n",
    "    for i in range(n):\n",
    "        new_img = img.copy()\n",
    "        x1, y1 = random.randint(0, 22), random.randint(4, 26)\n",
    "        x2, y2 = random.randint(x1 + 5, 29), y1\n",
    "        x3, y3 = random.randint(x1 + 3, 29), random.randint(0, y1 - 3)\n",
    "        cv2.line(new_img, (x1, y1), (x2, y2), (0, 0, 0), lineThickness)\n",
    "        cv2.line(new_img, (x1, y1), (x3, y3), (0, 0, 0), lineThickness)\n",
    "        cv2.imwrite(rf\"{path}\\{num_type}{str(i)}.png\", new_img)\n",
    "        \n",
    "    # генерация тупого угла\n",
    "    num_type = '4_test'\n",
    "    for i in range(n):\n",
    "        new_img = img.copy()\n",
    "        x1, y1 = random.randint(4, 26), random.randint(4, 26)\n",
    "        x2, y2 = random.randint(x1 + 4, 30), y1  \n",
    "        x3, y3 = random.randint(0, x1 - 2), random.randint(0, y1 - 2)\n",
    "        cv2.line(new_img, (x1, y1), (x2, y2), (0, 0, 0), lineThickness)\n",
    "        cv2.line(new_img, (x1, y1), (x3, y3), (0, 0, 0), lineThickness)\n",
    "        cv2.imwrite(rf\"{path}\\{num_type}{str(i)}.png\", new_img)"
   ]
  },
  {
   "cell_type": "code",
   "execution_count": 7,
   "metadata": {},
   "outputs": [
    {
     "name": "stdout",
     "output_type": "stream",
     "text": [
      "100\n"
     ]
    }
   ],
   "source": [
    "path = rf\"C:\\Users\\andmo\\OneDrive\\Desktop\\task_tuesday\\test-set\"\n",
    "img = cv2.imread(\"father.png\")\n",
    "img = cv2.cvtColor(img, cv2.COLOR_BGR2RGB)\n",
    "n = int(input())\n",
    "\n",
    "generate_image(n, img, path)"
   ]
  },
  {
   "cell_type": "code",
   "execution_count": null,
   "metadata": {},
   "outputs": [],
   "source": []
  }
 ],
 "metadata": {
  "kernelspec": {
   "display_name": "Python 3",
   "language": "python",
   "name": "python3"
  },
  "language_info": {
   "codemirror_mode": {
    "name": "ipython",
    "version": 3
   },
   "file_extension": ".py",
   "mimetype": "text/x-python",
   "name": "python",
   "nbconvert_exporter": "python",
   "pygments_lexer": "ipython3",
   "version": "3.8.5"
  }
 },
 "nbformat": 4,
 "nbformat_minor": 4
}
